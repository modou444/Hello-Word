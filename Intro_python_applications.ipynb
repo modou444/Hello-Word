{
 "cells": [
  {
   "cell_type": "markdown",
   "metadata": {
    "slideshow": {
     "slide_type": "subslide"
    }
   },
   "source": [
    "# Exercice 1:  \n",
    "\n",
    "1-  Remplir une liste d'apprenants, afficher le nombre des enregistrés ainsi que le premier et le dernier de la liste . \n",
    "\n",
    "2-  Ajouter, ensuite, un nouvel apprenant et afficher la liste finale"
   ]
  },
  {
   "cell_type": "code",
   "execution_count": 7,
   "metadata": {
    "slideshow": {
     "slide_type": "fragment"
    }
   },
   "outputs": [
    {
     "name": "stdout",
     "output_type": "stream",
     "text": [
      "4\n",
      "Premier apprenant: Modou \n",
      "Dernier apprenant: Yasmina\n",
      "['Modou', 'Chris', 'Niyaz', 'Yasmina', 'JP']\n"
     ]
    }
   ],
   "source": [
    "#Remplir une liste d'apprenants, afficher le nombre des enregistrés ainsi que le premier et le dernier de la liste\n",
    "apprenants = [\"Modou\", \"Chris\", \"Niyaz\",\"Yasmina\"]\n",
    "print(len(apprenants))\n",
    "print(\"Premier apprenant: \"+ apprenants[0]+\" \\nDernier apprenant: \"+apprenants[-1])\n",
    "\n",
    "#Ajouter, ensuite, un nouvel apprenant et afficher la liste finale\n",
    "apprenants.append(\"JP\")\n",
    "print(apprenants)\n",
    "#TBD"
   ]
  },
  {
   "cell_type": "markdown",
   "metadata": {
    "slideshow": {
     "slide_type": "subslide"
    }
   },
   "source": [
    "* supprimer des élements d'une liste:\n",
    "\n",
    "1- avec del : del variable_a_supprimer. \n",
    "\n",
    "2- avec la méthode remove: qui prend en paramètre l'élément (et non pas l'indice de l'élément à supprimer (pop)."
   ]
  },
  {
   "cell_type": "code",
   "execution_count": 9,
   "metadata": {},
   "outputs": [
    {
     "name": "stdout",
     "output_type": "stream",
     "text": [
      "['Modou', 'Chris', 'JP']\n",
      "['Modou', 'Chris']\n"
     ]
    }
   ],
   "source": [
    "#TBD\n",
    "del apprenants[2]\n",
    "print(apprenants)\n",
    "\n",
    "apprenants.remove(\"JP\")\n",
    "print(apprenants)"
   ]
  },
  {
   "cell_type": "markdown",
   "metadata": {},
   "source": [
    "Pour plus de détails : [La documentation officielle de Python](https://docs.python.org/fr/3/tutorial/controlflow.html#the-range-function)"
   ]
  },
  {
   "cell_type": "markdown",
   "metadata": {
    "slideshow": {
     "slide_type": "subslide"
    }
   },
   "source": [
    "# Exercice 2: \n",
    "\n",
    "soit la liste suivante:\n",
    "\n",
    "weekdays = ['mon', 'tues', 'wed', 'thurs', 'fri']\n",
    "\n",
    "Suivre les instructions ci dessous:"
   ]
  },
  {
   "cell_type": "code",
   "execution_count": 21,
   "metadata": {},
   "outputs": [
    {
     "name": "stdout",
     "output_type": "stream",
     "text": [
      "Premier element de la liste: mon\n",
      "['mon', 'tues', 'wed']\n",
      "['mon', 'wed', 'fri']\n",
      "['fri', 'mon', 'thurs', 'tues', 'wed']\n"
     ]
    }
   ],
   "source": [
    "weekdays = ['mon', 'tues', 'wed', 'thurs', 'fri']\n",
    "# Afficher le premier element de la liste\n",
    "#TBD\n",
    "print(\"Premier element de la liste: \"+weekdays[0])\n",
    "#Afficher les elements 0 (inclus) à 3 (exclus)\n",
    "#TBD\n",
    "print(weekdays[0:3])\n",
    "#Afficher avec un pas de 2 (les indices: 0,2,4)\n",
    "#TBD\n",
    "print(weekdays[::2])\n",
    "#Afficher la liste inversée\n",
    "#TBD\n",
    "weekdays.reverse()\n",
    "#Afficher la liste triée\n",
    "#TBD\n",
    "weekdays.sort()\n",
    "#Afficher la liste inversement triée\n",
    "\n",
    "print(weekdays)"
   ]
  },
  {
   "cell_type": "markdown",
   "metadata": {
    "slideshow": {
     "slide_type": "subslide"
    }
   },
   "source": [
    "# Exercice 3:\n",
    "\n",
    "soit cette liste:\n",
    "\n",
    "a=  [0,3,1]\n",
    "\n",
    "suivre les instructions ci dessous:\n"
   ]
  },
  {
   "cell_type": "code",
   "execution_count": 26,
   "metadata": {},
   "outputs": [
    {
     "name": "stdout",
     "output_type": "stream",
     "text": [
      "Nombre d'instance de 0: 2\n",
      "0\n"
     ]
    }
   ],
   "source": [
    "a=[0,3,1]\n",
    "# creer un tuple t à partir de la liste a et afficher son length\n",
    "mon_tuple=(0,3,1)\n",
    "\n",
    "# compter le nombre d'instances de 0 dans t\n",
    "#TBD\n",
    "print(\"Nombre d'instance de 0: \"+str(mon_tuple.count(0)))\n",
    "# trouver l'index de la première instance de cet element trouvé:\n",
    "#TBD\n",
    "print(mon_tuple.index(0))\n",
    "# Que remarquez vous si vous lancer la commande cidessous:\n",
    "#t[2] = 2\n",
    "\n",
    "#Ajouter au tuple t, les 2 elements (3, 4)\n",
    "#\n",
    "#t += (3,4)\n",
    "#print(t)\n",
    "#trier le tuple t\n",
    "#TBD"
   ]
  },
  {
   "cell_type": "markdown",
   "metadata": {},
   "source": [
    "[La Reference complete est ici](https://docs.python.org/fr/3/tutorial/datastructures.html)"
   ]
  },
  {
   "cell_type": "markdown",
   "metadata": {
    "slideshow": {
     "slide_type": "subslide"
    }
   },
   "source": [
    "# Exercice 4:\n",
    "\n",
    "Créer le dictionnaire suivant et le stocker dans une variable d1 :\n",
    "\n",
    "    age: 20\n",
    "    nom: \"Doe\"\n",
    "\n",
    "Créer un second dictionnaire d2 contenant les valeurs suivantes :\n",
    "\n",
    "    age: 22\n",
    "    firstname: \"John\"\n",
    "    adresse: \"Paris\"\n",
    "\n",
    "continuer les instructions ci dessous:"
   ]
  },
  {
   "cell_type": "code",
   "execution_count": null,
   "metadata": {},
   "outputs": [],
   "source": [
    "#Fusionner le dictionnaire d1 dans d2\n",
    "\n",
    "#TBD\n",
    "\n",
    "# A l'aide d'une boucle for afficher à la fois la clé du dictionnaire d2 et sa valeur pour chaque élément\n",
    "\n",
    "#TBD\n",
    "\n",
    "# Supprimer la clé adresse du dictionnaire d2\n",
    "\n",
    "#TBD\n"
   ]
  },
  {
   "cell_type": "markdown",
   "metadata": {
    "slideshow": {
     "slide_type": "subslide"
    }
   },
   "source": [
    "# Exercice 5:\n",
    "\n",
    "Coder une fonction duplicate_last_item qui prend une liste en argument et qui lui rajoute le dernier élément. \n",
    "\n",
    "par exemple si l = [1, 2, 3] après application de la fonction l doit être égale à [1, 2, 3, 3]\n"
   ]
  },
  {
   "cell_type": "code",
   "execution_count": 27,
   "metadata": {
    "slideshow": {
     "slide_type": "fragment"
    }
   },
   "outputs": [
    {
     "name": "stdout",
     "output_type": "stream",
     "text": [
      "[1, 2, 3, 1, 2, 3]\n"
     ]
    }
   ],
   "source": [
    "#TBD\n",
    "l = [1, 2, 3]\n"
   ]
  },
  {
   "cell_type": "markdown",
   "metadata": {
    "slideshow": {
     "slide_type": "subslide"
    }
   },
   "source": [
    "# Exercice 6:\n",
    "\n",
    "Coder une fonction multiply_liste qui prend en argument une liste et retourne une liste dont tous les éléments sont multipliés par un coefficient 𝛼 donné en argument \n"
   ]
  },
  {
   "cell_type": "code",
   "execution_count": 36,
   "metadata": {},
   "outputs": [
    {
     "data": {
      "text/plain": [
       "[2, 4, 6]"
      ]
     },
     "execution_count": 36,
     "metadata": {},
     "output_type": "execute_result"
    }
   ],
   "source": [
    "def multiply_list(l, alpha):\n",
    "    #a completer\n",
    "    res=[]\n",
    "    for x in l:\n",
    "        res.append(x*alpha)\n",
    "    return res\n",
    "        \n",
    "    \n",
    "    \n",
    "l = [1, 2, 3]\n",
    "alpha = 2\n",
    "multiply_list(l, alpha)"
   ]
  },
  {
   "cell_type": "code",
   "execution_count": null,
   "metadata": {
    "slideshow": {
     "slide_type": "subslide"
    }
   },
   "outputs": [],
   "source": [
    "#Bonus:\n",
    "#Coder une fonction filter_even_values qui filtre toutes les valeurs paire d'une liste\n",
    "\n",
    "def filter_even_values(liste):\n",
    "    #a completer\n",
    "    #nouvelle liste et append\n",
    "l = [1, 2, 3, 4, 5, 6]\n",
    "filter_even_values(l)"
   ]
  },
  {
   "cell_type": "markdown",
   "metadata": {
    "slideshow": {
     "slide_type": "subslide"
    }
   },
   "source": [
    "# Exercice 7:\n",
    "\n",
    "Coder la fonction is_adult qui affiche \"mineur\" si le nombre en entré est inférieur à 18, \"adulte\" si supérieur ou égale à 18 et inférieur à 65 et \"senior\" sinon\n"
   ]
  },
  {
   "cell_type": "code",
   "execution_count": null,
   "metadata": {
    "slideshow": {
     "slide_type": "-"
    }
   },
   "outputs": [],
   "source": [
    "\n",
    "#TBD"
   ]
  },
  {
   "cell_type": "markdown",
   "metadata": {},
   "source": [
    "# Bonus:"
   ]
  },
  {
   "cell_type": "markdown",
   "metadata": {
    "slideshow": {
     "slide_type": "subslide"
    }
   },
   "source": [
    "## Exercice 8:\n",
    "\n",
    "coder la fonction average qui prend en argument une liste de nombre et qui retourne la moyenne de celle-ci. On utilisera une boucle for obligatoirement\n"
   ]
  },
  {
   "cell_type": "code",
   "execution_count": 4,
   "metadata": {},
   "outputs": [
    {
     "ename": "AttributeError",
     "evalue": "module 'numpy' has no attribute 'odd'",
     "output_type": "error",
     "traceback": [
      "\u001b[1;31m---------------------------------------------------------------------------\u001b[0m",
      "\u001b[1;31mAttributeError\u001b[0m                            Traceback (most recent call last)",
      "Cell \u001b[1;32mIn [4], line 2\u001b[0m\n\u001b[0;32m      1\u001b[0m \u001b[38;5;28;01mimport\u001b[39;00m \u001b[38;5;21;01mnumpy\u001b[39;00m \u001b[38;5;28;01mas\u001b[39;00m \u001b[38;5;21;01mnp\u001b[39;00m\n\u001b[1;32m----> 2\u001b[0m help(\u001b[43mnp\u001b[49m\u001b[38;5;241;43m.\u001b[39;49m\u001b[43modd\u001b[49m)\n",
      "File \u001b[1;32m~\\miniconda3\\lib\\site-packages\\numpy\\__init__.py:320\u001b[0m, in \u001b[0;36m__getattr__\u001b[1;34m(attr)\u001b[0m\n\u001b[0;32m    317\u001b[0m     \u001b[38;5;28;01mfrom\u001b[39;00m \u001b[38;5;21;01m.\u001b[39;00m\u001b[38;5;21;01mtesting\u001b[39;00m \u001b[38;5;28;01mimport\u001b[39;00m Tester\n\u001b[0;32m    318\u001b[0m     \u001b[38;5;28;01mreturn\u001b[39;00m Tester\n\u001b[1;32m--> 320\u001b[0m \u001b[38;5;28;01mraise\u001b[39;00m \u001b[38;5;167;01mAttributeError\u001b[39;00m(\u001b[38;5;124m\"\u001b[39m\u001b[38;5;124mmodule \u001b[39m\u001b[38;5;132;01m{!r}\u001b[39;00m\u001b[38;5;124m has no attribute \u001b[39m\u001b[38;5;124m\"\u001b[39m\n\u001b[0;32m    321\u001b[0m                      \u001b[38;5;124m\"\u001b[39m\u001b[38;5;132;01m{!r}\u001b[39;00m\u001b[38;5;124m\"\u001b[39m\u001b[38;5;241m.\u001b[39mformat(\u001b[38;5;18m__name__\u001b[39m, attr))\n",
      "\u001b[1;31mAttributeError\u001b[0m: module 'numpy' has no attribute 'odd'"
     ]
    }
   ],
   "source": [
    "import numpy as np\n",
    "help(np.odd)"
   ]
  },
  {
   "cell_type": "code",
   "execution_count": null,
   "metadata": {},
   "outputs": [],
   "source": [
    "#TBD"
   ]
  },
  {
   "cell_type": "markdown",
   "metadata": {
    "slideshow": {
     "slide_type": "subslide"
    }
   },
   "source": [
    "## Exercice 9:\n",
    "\n",
    " Faire une fonction reverse_string qui prend en argument une chaîne de caractère et qui retourne la chaîne retournée.\n"
   ]
  },
  {
   "cell_type": "code",
   "execution_count": null,
   "metadata": {
    "slideshow": {
     "slide_type": "-"
    }
   },
   "outputs": [],
   "source": [
    "#TBD\n",
    "\n"
   ]
  },
  {
   "cell_type": "code",
   "execution_count": null,
   "metadata": {},
   "outputs": [],
   "source": []
  }
 ],
 "metadata": {
  "celltoolbar": "Diaporama",
  "kernelspec": {
   "display_name": "Python 3 (ipykernel)",
   "language": "python",
   "name": "python3"
  },
  "language_info": {
   "codemirror_mode": {
    "name": "ipython",
    "version": 3
   },
   "file_extension": ".py",
   "mimetype": "text/x-python",
   "name": "python",
   "nbconvert_exporter": "python",
   "pygments_lexer": "ipython3",
   "version": "3.11.7"
  },
  "toc": {
   "base_numbering": 1,
   "nav_menu": {},
   "number_sections": true,
   "sideBar": true,
   "skip_h1_title": false,
   "title_cell": "Table of Contents",
   "title_sidebar": "Contents",
   "toc_cell": false,
   "toc_position": {
    "height": "613.944px",
    "left": "40px",
    "top": "110.806px",
    "width": "212px"
   },
   "toc_section_display": true,
   "toc_window_display": true
  }
 },
 "nbformat": 4,
 "nbformat_minor": 4
}
